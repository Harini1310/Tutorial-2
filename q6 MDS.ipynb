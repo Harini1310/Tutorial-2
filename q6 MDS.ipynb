{
 "cells": [
  {
   "cell_type": "code",
   "execution_count": 9,
   "metadata": {},
   "outputs": [
    {
     "data": {
      "text/plain": [
       "<matplotlib.collections.PathCollection at 0x1ba5c5645c0>"
      ]
     },
     "execution_count": 9,
     "metadata": {},
     "output_type": "execute_result"
    },
    {
     "data": {
      "image/png": "[encoded data removed]",
      "text/plain": [
       "<Figure size 432x288 with 1 Axes>"
      ]
     },
     "metadata": {
      "needs_background": "light"
     },
     "output_type": "display_data"
    }
   ],
   "source": [
    "#to implement multi dimensional scaling\n",
    "\n",
    "import numpy as np\n",
    "import matplotlib.pyplot as plt\n",
    "import statistics\n",
    "pts=[[1,3],[3,1],[2,1],[2,2]]\n",
    "x=[1,1,2,4]\n",
    "y=[1,2,2,3]\n",
    "#display scatter plot\n",
    "plt.scatter(x, y)\n",
    "#to find the mean centered data\n",
    "# can also use statistics to find mean\n",
    "xmean=statistics.mean(x)\n",
    "ymean=statistics.mean(y)\n",
    "#mean subtracted data x-xbar and y-ybar\n",
    "meanx=[i-xmean for i in x]\n",
    "meany=[i-ymean for i in y]\n",
    "#plot of mean subtracted data\n",
    "plt.scatter(meanx,meany)\n",
    "\n"
   ]
  },
  {
   "cell_type": "code",
   "execution_count": 10,
   "metadata": {},
   "outputs": [
    {
     "name": "stdout",
     "output_type": "stream",
     "text": [
      "[[ 2  1  0 -3]\n",
      " [ 1  1  0 -2]\n",
      " [ 0  0  0  0]\n",
      " [-3 -2  0  5]]\n"
     ]
    }
   ],
   "source": [
    "#print(pts)\n",
    "#the product of the matrix and its transpose\n",
    "matrix=np.column_stack((meanx,meany))\n",
    "matnmatT=np.dot(matrix,matrix.T)\n",
    "print(matnmatT)"
   ]
  },
  {
   "cell_type": "code",
   "execution_count": 11,
   "metadata": {},
   "outputs": [
    {
     "name": "stdout",
     "output_type": "stream",
     "text": [
      "[7.60555128e+00 3.94448725e-01 3.35005888e-16 0.00000000e+00]\n",
      "[[-0.49079864 -0.65252078  0.57735027  0.        ]\n",
      " [-0.31970025  0.75130448  0.57735027  0.        ]\n",
      " [ 0.          0.          0.          1.        ]\n",
      " [ 0.81049889 -0.0987837   0.57735027  0.        ]]\n"
     ]
    }
   ],
   "source": [
    "#to find eigen values and eigen vectors\n",
    "eigenvalues,eigenvectors=np.linalg.eig(matnmatT)\n",
    "print(eigenvalues)\n",
    "print(eigenvectors)"
   ]
  },
  {
   "cell_type": "code",
   "execution_count": 15,
   "metadata": {},
   "outputs": [],
   "source": [
    "#the first eigen vector and the largest eigen value\n",
    "eigvector=eigenvectors[:,[0]]\n",
    "eigvalue=eigenvalues[0]"
   ]
  },
  {
   "cell_type": "code",
   "execution_count": 16,
   "metadata": {},
   "outputs": [
    {
     "name": "stdout",
     "output_type": "stream",
     "text": [
      "[[-1.35353252]\n",
      " [-0.8816746 ]\n",
      " [ 0.        ]\n",
      " [ 2.23520712]]\n"
     ]
    }
   ],
   "source": [
    "import math\n",
    "#to find mds projection\n",
    "mds=math.sqrt(eigvalue)*eigvector\n",
    "print(mds)"
   ]
  },
  {
   "cell_type": "code",
   "execution_count": 17,
   "metadata": {},
   "outputs": [
    {
     "name": "stdout",
     "output_type": "stream",
     "text": [
      "[[0.         1.         1.41421356 3.60555128]\n",
      " [1.         0.         1.         3.16227766]\n",
      " [1.41421356 1.         0.         2.23606798]\n",
      " [3.60555128 3.16227766 2.23606798 0.        ]]\n"
     ]
    }
   ],
   "source": [
    "from sklearn.metrics.pairwise import euclidean_distances\n",
    "#distance between the mean subtracted x data\n",
    "distx=euclidean_distances(matrix,matrix)\n",
    "print(distx)"
   ]
  },
  {
   "cell_type": "code",
   "execution_count": 18,
   "metadata": {},
   "outputs": [
    {
     "name": "stdout",
     "output_type": "stream",
     "text": [
      "[[0.         0.47185793 1.35353252 3.58873965]\n",
      " [0.47185793 0.         0.8816746  3.11688172]\n",
      " [1.35353252 0.8816746  0.         2.23520712]\n",
      " [3.58873965 3.11688172 2.23520712 0.        ]]\n"
     ]
    }
   ],
   "source": [
    "#distance between the computed points that is mds projection\n",
    "disty=euclidean_distances(mds,mds)\n",
    "print(disty)"
   ]
  }
 ],
 "metadata": {
  "kernelspec": {
   "display_name": "Python 3",
   "language": "python",
   "name": "python3"
  },
  "language_info": {
   "codemirror_mode": {
    "name": "ipython",
    "version": 3
   },
   "file_extension": ".py",
   "mimetype": "text/x-python",
   "name": "python",
   "nbconvert_exporter": "python",
   "pygments_lexer": "ipython3",
   "version": "3.7.3"
  }
 },
 "nbformat": 4,
 "nbformat_minor": 2
}
