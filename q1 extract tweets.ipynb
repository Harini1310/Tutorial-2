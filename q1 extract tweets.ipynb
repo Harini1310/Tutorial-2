{
 "cells": [
  {
   "cell_type": "code",
   "execution_count": null,
   "metadata": {},
   "outputs": [],
   "source": [
    "import tweepy\n",
    "consumer_key = \"cfhtDBkVFfC4VyXtlkSUOpLe8\"\n",
    "consumer_secret = \"eX7BAGWbnnptAcDN7YqXUb1uoQ8TLO7Zdsx48CIxt1FBgQ9Hiv\"\n",
    "access_key = \"1138316071910297600-1cwVGr1m9Me0IYos4ONGpbIF0Dcol2\"\n",
    "access_secret = \"udR3MwXueqWz50FoEIfshXH4WbNsfZ4CJWQFOaWxk8ksu\""
   ]
  },
  {
   "cell_type": "code",
   "execution_count": null,
   "metadata": {},
   "outputs": [],
   "source": [
    "auth = tweepy.OAuthHandler(consumer_key, consumer_secret)"
   ]
  },
  {
   "cell_type": "code",
   "execution_count": null,
   "metadata": {},
   "outputs": [],
   "source": [
    "auth.set_access_token(access_token, access_secret)\n",
    "api = tweepy.API(auth)\n",
    "query = \"#CWC19\"\n",
    "\n",
    "language = \"en\"\n"
   ]
  },
  {
   "cell_type": "code",
   "execution_count": null,
   "metadata": {},
   "outputs": [],
   "source": [
    "results = api.search(q=query, lang=language,count=1000)\n",
    "\n",
    "for tweet in results:\n",
    "    print (tweet.user.screen_name,\"Tweeted:\",tweet.text)"
   ]
  },
  {
   "cell_type": "code",
   "execution_count": null,
   "metadata": {},
   "outputs": [],
   "source": [
    "import csv\n",
    "\n",
    "csvfile=open('tweets.csv','a')\n",
    "\n",
    "csvwriter=csv.writer(csvfile)\n",
    "\n",
    "for tweet in tweepy.Cursor(api.search,\n",
    "                           q = \"#CWC19\",\n",
    "                           since = \"2019-06-01\",\n",
    "                           until = \"2019-07-01\",\n",
    "                           lang = \"en\").items():\n",
    "\n",
    "    # Write a row to the CSV file. I use encode UTF-8\n",
    "    csvwriter.writerow([tweet.created_at, tweet.text.encode('utf-8')])\n",
    "    print (tweet.created_at, tweet.text)\n",
    "csvfile.close()"
   ]
  }
 ],
 "metadata": {
  "kernelspec": {
   "display_name": "Python 3",
   "language": "python",
   "name": "python3"
  },
  "language_info": {
   "codemirror_mode": {
    "name": "ipython",
    "version": 3
   },
   "file_extension": ".py",
   "mimetype": "text/x-python",
   "name": "python",
   "nbconvert_exporter": "python",
   "pygments_lexer": "ipython3",
   "version": "3.7.3"
  }
 },
 "nbformat": 4,
 "nbformat_minor": 2
}
